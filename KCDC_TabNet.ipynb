{
  "nbformat": 4,
  "nbformat_minor": 0,
  "metadata": {
    "accelerator": "GPU",
    "colab": {
      "name": "KCDC_TabNet",
      "provenance": [],
      "toc_visible": true,
      "mount_file_id": "12HRD8unE6lvePQhSZF94SA4CweHau1sN",
      "authorship_tag": "ABX9TyMRfKGeEClzVZn6EDEQWERv"
    },
    "kernelspec": {
      "display_name": "Python 3",
      "name": "python3"
    }
  },
  "cells": [
    {
      "cell_type": "markdown",
      "metadata": {
        "id": "4nFdl71spIPD"
      },
      "source": [
        "# Setup"
      ]
    },
    {
      "cell_type": "code",
      "metadata": {
        "id": "0Nn3LQP2O8Fn",
        "colab": {
          "base_uri": "https://localhost:8080/"
        },
        "outputId": "f3a55d2f-e27c-4c25-a3b8-8226b9568767"
      },
      "source": [
        "pip install pytorch-tabnet"
      ],
      "execution_count": 10,
      "outputs": [
        {
          "output_type": "stream",
          "text": [
            "Requirement already satisfied: pytorch-tabnet in /usr/local/lib/python3.6/dist-packages (3.0.0)\n",
            "Requirement already satisfied: numpy<2.0,>=1.17 in /usr/local/lib/python3.6/dist-packages (from pytorch-tabnet) (1.19.4)\n",
            "Requirement already satisfied: scikit_learn>0.21 in /usr/local/lib/python3.6/dist-packages (from pytorch-tabnet) (0.22.2.post1)\n",
            "Requirement already satisfied: tqdm<5.0,>=4.36 in /usr/local/lib/python3.6/dist-packages (from pytorch-tabnet) (4.41.1)\n",
            "Requirement already satisfied: torch<2.0,>=1.2 in /usr/local/lib/python3.6/dist-packages (from pytorch-tabnet) (1.7.0+cu101)\n",
            "Requirement already satisfied: scipy>1.4 in /usr/local/lib/python3.6/dist-packages (from pytorch-tabnet) (1.4.1)\n",
            "Requirement already satisfied: joblib>=0.11 in /usr/local/lib/python3.6/dist-packages (from scikit_learn>0.21->pytorch-tabnet) (1.0.0)\n",
            "Requirement already satisfied: typing-extensions in /usr/local/lib/python3.6/dist-packages (from torch<2.0,>=1.2->pytorch-tabnet) (3.7.4.3)\n",
            "Requirement already satisfied: future in /usr/local/lib/python3.6/dist-packages (from torch<2.0,>=1.2->pytorch-tabnet) (0.16.0)\n",
            "Requirement already satisfied: dataclasses in /usr/local/lib/python3.6/dist-packages (from torch<2.0,>=1.2->pytorch-tabnet) (0.8)\n"
          ],
          "name": "stdout"
        }
      ]
    },
    {
      "cell_type": "code",
      "metadata": {
        "id": "fb1G2kIVPByZ",
        "colab": {
          "base_uri": "https://localhost:8080/"
        },
        "outputId": "6a5bc328-ff41-48c4-dfcf-e2d651e83e2c"
      },
      "source": [
        "pip install wget"
      ],
      "execution_count": 11,
      "outputs": [
        {
          "output_type": "stream",
          "text": [
            "Requirement already satisfied: wget in /usr/local/lib/python3.6/dist-packages (3.2)\n"
          ],
          "name": "stdout"
        }
      ]
    },
    {
      "cell_type": "markdown",
      "metadata": {
        "id": "eRwtEQyZOpT4"
      },
      "source": [
        "# Customize a TabNet Model\n",
        "\n",
        "## This tutorial gives examples on how to easily customize a TabNet Model\n",
        "\n",
        "### 1 - Customizing your learning rate scheduler\n",
        "\n",
        "Almost all classical pytroch schedulers are now easy to integrate with pytorch-tabnet\n",
        "\n",
        "### 2 - Use your own loss function\n",
        "\n",
        "It's really easy to use any pytorch loss function with TabNet, we'll walk you through that\n",
        "\n",
        "\n",
        "### 3 - Customizing your evaluation metric and evaluations sets\n",
        "\n",
        "Like XGBoost, you can easily monitor different metrics on different evaluation sets with pytorch-tabnet"
      ]
    },
    {
      "cell_type": "markdown",
      "metadata": {
        "id": "nl8BaxZKOpUU"
      },
      "source": [
        "## 1 - Customizing your learning rate scheduler\n",
        "\n",
        "TabNetClassifier, TabNetRegressor and TabNetMultiTaskClassifier all takes two arguments:\n",
        "- scheduler_fn : Any torch.optim.lr_scheduler should work\n",
        "- scheduler_params : A dictionnary that contains the parameters of your scheduler (without the optimizer)\n",
        "\n",
        "----\n",
        "NB1 : Some schedulers like torch.optim.lr_scheduler.ReduceLROnPlateau depend on the evolution of a metric, pytorch-tabnet will use the early stopping metric you asked (the last eval_metric, see 2-) to perform the schedulers updates\n",
        "\n",
        "EX1 : \n",
        "```\n",
        "scheduler_fn=torch.optim.lr_scheduler.ReduceLROnPlateau\n",
        "scheduler_params={\"mode\":'max', # max because default eval metric for binary is AUC\n",
        "                 \"factor\":0.1,\n",
        "                 \"patience\":1}\n",
        "```\n",
        "\n",
        "-----\n",
        "NB2 : Some schedulers require updates at batch level, they can be used very easily the only thing to do is to add `is_batch_level` to True in your `scheduler_params`\n",
        "\n",
        "EX2:\n",
        "```\n",
        "scheduler_fn=torch.optim.lr_scheduler.CyclicLR\n",
        "scheduler_params={\"is_batch_level\":True,\n",
        "                  \"base_lr\":1e-3,\n",
        "                  \"max_lr\":1e-2,\n",
        "                  \"step_size_up\":100\n",
        "                  }\n",
        "```\n",
        "\n",
        "-----\n",
        "NB3: Note that you can also customize your optimizer function, any torch optimizer should work"
      ]
    },
    {
      "cell_type": "markdown",
      "metadata": {
        "id": "uAv6DC0HOpUc"
      },
      "source": [
        "## 2 - Use your own loss function\n",
        "\n",
        "The default loss for classification is torch.nn.functional.cross_entropy\n",
        "\n",
        "The default loss for regression is torch.nn.functional.mse_loss\n",
        "\n",
        "Any derivable loss function of the type lambda y_pred, y_true : loss(y_pred, y_true) should work if it uses torch computation (to allow gradients computations).\n",
        "\n",
        "In particular, any pytorch loss function should work.\n",
        "\n",
        "Once your loss is defined simply pass it loss_fn argument when defining your model.\n",
        "\n",
        "/!\\ : One important thing to keep in mind is that when computing the loss for TabNetClassifier and TabNetMultiTaskClassifier you'll need to apply first torch.nn.Softmax() to y_pred as the final model prediction is softmaxed automatically.\n",
        "\n",
        "NB : Tabnet also has an internal loss (the sparsity loss) which is summed to the loss_fn, the importance of the sparsity loss can be mitigated using `lambda_sparse` parameter"
      ]
    },
    {
      "cell_type": "code",
      "metadata": {
        "id": "IMK8WrB-OpUd"
      },
      "source": [
        "def my_loss_fn(y_pred, y_true):\n",
        "    \"\"\"\n",
        "    Dummy example similar to using default torch.nn.functional.cross_entropy\n",
        "    \"\"\"\n",
        "    softmax_pred = torch.nn.Softmax(dim=-1)(y_pred)\n",
        "    logloss = (1-y_true)*torch.log(softmax_pred[:,0])\n",
        "    logloss += y_true*torch.log(softmax_pred[:,1])\n",
        "    return -torch.mean(logloss)"
      ],
      "execution_count": 12,
      "outputs": []
    },
    {
      "cell_type": "markdown",
      "metadata": {
        "id": "z7Y9fpatYCLP"
      },
      "source": [
        "## 3 - Customizing your evaluation metric and evaluations sets\n",
        "\n",
        "When calling the `fit` method you can speficy:\n",
        "- eval_set : a list of tuples like (X_valid, y_valid)\n",
        "    Note that the last value of this list will be used for early stopping\n",
        "- eval_name : a list to name each eval set\n",
        "    default will be val_0, val_1 ...\n",
        "- eval_metric : a list of default metrics or custom metrics\n",
        "    Default : \"auc\", \"accuracy\", \"logloss\", \"balanced_accuracy\", \"mse\", \"rmse\"\n",
        "    \n",
        "    \n",
        "NB : If no eval_set is given no early stopping will occure (patience is then ignored) and the weights used will be the last epoch's weights\n",
        "\n",
        "NB2 : If `patience<=0` this will disable early stopping\n",
        "\n",
        "NB3 : Setting `patience` to `max_epochs` ensures that training won't be early stopped, but best weights from the best epochs will be used (instead of the last weight if early stopping is disabled)"
      ]
    },
    {
      "cell_type": "code",
      "metadata": {
        "id": "0bHnYjX7OpUf"
      },
      "source": [
        "from pytorch_tabnet.metrics import Metric"
      ],
      "execution_count": 13,
      "outputs": []
    },
    {
      "cell_type": "code",
      "metadata": {
        "id": "DXQIrqRGOpUi"
      },
      "source": [
        "class my_metric(Metric):\n",
        "    \"\"\"\n",
        "    2xAUC.\n",
        "    \"\"\"\n",
        "\n",
        "    def __init__(self):\n",
        "        self._name = \"custom\" # write an understandable name here\n",
        "        self._maximize = True\n",
        "\n",
        "    def __call__(self, y_true, y_score):\n",
        "        \"\"\"\n",
        "        Compute AUC of predictions.\n",
        "\n",
        "        Parameters\n",
        "        ----------\n",
        "        y_true: np.ndarray\n",
        "            Target matrix or vector\n",
        "        y_score: np.ndarray\n",
        "            Score matrix or vector\n",
        "\n",
        "        Returns\n",
        "        -------\n",
        "            float\n",
        "            AUC of predictions vs targets.\n",
        "        \"\"\"\n",
        "        return 2*roc_auc_score(y_true, y_score[:, 1])"
      ],
      "execution_count": 14,
      "outputs": []
    },
    {
      "cell_type": "markdown",
      "metadata": {
        "id": "NszwqG_mOpUf"
      },
      "source": [
        "# Prepare data"
      ]
    },
    {
      "cell_type": "code",
      "metadata": {
        "colab": {
          "base_uri": "https://localhost:8080/"
        },
        "id": "DtDXTySnEMQb",
        "outputId": "cec07ee6-9201-46f0-b613-055c46940079"
      },
      "source": [
        "!pip install gdown\r\n",
        "\r\n",
        "!gdown https://drive.google.com/u/0/uc?id=1A1Db5DagEK2NUYGrq2k5H1TM9biEOSRt\r\n",
        "!mkdir data\r\n",
        "!unzip data.zip -d data"
      ],
      "execution_count": 24,
      "outputs": [
        {
          "output_type": "stream",
          "text": [
            "Requirement already satisfied: gdown in /usr/local/lib/python3.6/dist-packages (3.6.4)\n",
            "Requirement already satisfied: six in /usr/local/lib/python3.6/dist-packages (from gdown) (1.15.0)\n",
            "Requirement already satisfied: requests in /usr/local/lib/python3.6/dist-packages (from gdown) (2.23.0)\n",
            "Requirement already satisfied: tqdm in /usr/local/lib/python3.6/dist-packages (from gdown) (4.41.1)\n",
            "Requirement already satisfied: urllib3!=1.25.0,!=1.25.1,<1.26,>=1.21.1 in /usr/local/lib/python3.6/dist-packages (from requests->gdown) (1.24.3)\n",
            "Requirement already satisfied: chardet<4,>=3.0.2 in /usr/local/lib/python3.6/dist-packages (from requests->gdown) (3.0.4)\n",
            "Requirement already satisfied: idna<3,>=2.5 in /usr/local/lib/python3.6/dist-packages (from requests->gdown) (2.10)\n",
            "Requirement already satisfied: certifi>=2017.4.17 in /usr/local/lib/python3.6/dist-packages (from requests->gdown) (2020.12.5)\n",
            "Downloading...\n",
            "From: https://drive.google.com/u/0/uc?id=1A1Db5DagEK2NUYGrq2k5H1TM9biEOSRt\n",
            "To: /content/data.zip\n",
            "209MB [00:02, 76.8MB/s]\n"
          ],
          "name": "stdout"
        }
      ]
    },
    {
      "cell_type": "code",
      "metadata": {
        "id": "LAdkczm0OpT5"
      },
      "source": [
        "from pytorch_tabnet.tab_model import TabNetClassifier, TabNetRegressor\n",
        "\n",
        "import torch\n",
        "from sklearn.preprocessing import LabelEncoder\n",
        "from sklearn.metrics import roc_auc_score, mean_squared_error\n",
        "\n",
        "import pandas as pd\n",
        "import numpy as np\n",
        "np.random.seed(0)\n",
        "\n",
        "\n",
        "import os\n",
        "import wget\n",
        "from pathlib import Path\n",
        "\n",
        "from matplotlib import pyplot as plt\n",
        "%matplotlib inline"
      ],
      "execution_count": 31,
      "outputs": []
    },
    {
      "cell_type": "markdown",
      "metadata": {
        "id": "VbTWPcyvOpUB"
      },
      "source": [
        "### Download census-income dataset"
      ]
    },
    {
      "cell_type": "markdown",
      "metadata": {
        "id": "c5ZMCMd0Qfhu"
      },
      "source": [
        "### Prepared data"
      ]
    },
    {
      "cell_type": "code",
      "metadata": {
        "id": "hT-uIcs3Qk5H",
        "colab": {
          "base_uri": "https://localhost:8080/"
        },
        "outputId": "7e88a9db-7bc4-491c-efe4-389e90e5cb76"
      },
      "source": [
        "import os.path as osp\n",
        "\n",
        "data_dir = osp.join(os.getcwd(), 'data')\n",
        "files_list = list(os.walk(data_dir))[0][2]\n",
        "print(files_list)"
      ],
      "execution_count": 38,
      "outputs": [
        {
          "output_type": "stream",
          "text": [
            "['data_dict10_test.csv', 'data_dict10.csv']\n"
          ],
          "name": "stdout"
        }
      ]
    },
    {
      "cell_type": "code",
      "metadata": {
        "id": "NTJwWi9WQwUn",
        "colab": {
          "base_uri": "https://localhost:8080/"
        },
        "outputId": "3b0661df-8c9f-46d9-aa86-6dbe80bfe5d3"
      },
      "source": [
        "exp_name_1 = 'data_dict10.csv'\n",
        "path_to_csv_1 = osp.join(data_dir, exp_name_1)\n",
        "print(path_to_csv_1)\n",
        "data_1 = pd.read_csv(path_to_csv_1, encoding='utf-8', )  # index_col=0\n",
        "data_1.drop('Unnamed: 0', axis=1, inplace=True)"
      ],
      "execution_count": 39,
      "outputs": [
        {
          "output_type": "stream",
          "text": [
            "/content/data/data_dict10.csv\n"
          ],
          "name": "stdout"
        }
      ]
    },
    {
      "cell_type": "code",
      "metadata": {
        "id": "GVRS4pkPRdhS",
        "colab": {
          "base_uri": "https://localhost:8080/"
        },
        "outputId": "4c77f150-403e-4dcf-e257-3ef13fca01c6"
      },
      "source": [
        "exp_name_2 = 'data_dict10_test.csv'\n",
        "path_to_csv_2 = osp.join(data_dir, exp_name_2)\n",
        "print(path_to_csv_2)\n",
        "data_2 = pd.read_csv(path_to_csv_2, encoding='utf-8')  # index_col=0\n",
        "data_2.drop('Unnamed: 0', axis=1, inplace=True)"
      ],
      "execution_count": 40,
      "outputs": [
        {
          "output_type": "stream",
          "text": [
            "/content/data/data_dict10_test.csv\n"
          ],
          "name": "stdout"
        }
      ]
    },
    {
      "cell_type": "code",
      "metadata": {
        "id": "Dy39fGHsTKDA"
      },
      "source": [
        "dataset_name = exp_name_1 + ' + ' + exp_name_2\n",
        "data = pd.concat([data_1, data_2])"
      ],
      "execution_count": 41,
      "outputs": []
    },
    {
      "cell_type": "markdown",
      "metadata": {
        "id": "5PeuJIg3OpUJ"
      },
      "source": [
        "### Load data and split"
      ]
    },
    {
      "cell_type": "code",
      "metadata": {
        "id": "RIP9W2kRA8aI"
      },
      "source": [
        "# labels = [ f'{i}' for i in range(0, 5, 1) ]\n",
        "# data['mass_idx'] = pd.cut(data['mass'], range(0, 6, 1), right=False, labels=labels)\n",
        "# data['mass_idx'] = data['mass_idx'].astype(int)"
      ],
      "execution_count": 42,
      "outputs": []
    },
    {
      "cell_type": "code",
      "metadata": {
        "id": "ND7kqaKuWsfj"
      },
      "source": [
        "col_to_drop = ['TrPP']\n",
        "\n",
        "for col_name in col_to_drop:\n",
        "  data.drop(col_name, axis=1, inplace=True)"
      ],
      "execution_count": 43,
      "outputs": []
    },
    {
      "cell_type": "code",
      "metadata": {
        "id": "Al0rVlRXWo0F",
        "colab": {
          "base_uri": "https://localhost:8080/",
          "height": 406
        },
        "outputId": "9692c8e2-95ef-4675-a16c-65acfd6f3be6"
      },
      "source": [
        "data"
      ],
      "execution_count": 44,
      "outputs": [
        {
          "output_type": "execute_result",
          "data": {
            "text/html": [
              "<div>\n",
              "<style scoped>\n",
              "    .dataframe tbody tr th:only-of-type {\n",
              "        vertical-align: middle;\n",
              "    }\n",
              "\n",
              "    .dataframe tbody tr th {\n",
              "        vertical-align: top;\n",
              "    }\n",
              "\n",
              "    .dataframe thead th {\n",
              "        text-align: right;\n",
              "    }\n",
              "</style>\n",
              "<table border=\"1\" class=\"dataframe\">\n",
              "  <thead>\n",
              "    <tr style=\"text-align: right;\">\n",
              "      <th></th>\n",
              "      <th>TrEP</th>\n",
              "      <th>TrXc</th>\n",
              "      <th>TrYc</th>\n",
              "      <th>TrZe</th>\n",
              "      <th>TrAz</th>\n",
              "      <th>TrNe</th>\n",
              "      <th>TrNg</th>\n",
              "      <th>TrNm</th>\n",
              "      <th>TrNh</th>\n",
              "      <th>mass</th>\n",
              "    </tr>\n",
              "  </thead>\n",
              "  <tbody>\n",
              "    <tr>\n",
              "      <th>0</th>\n",
              "      <td>14.231187</td>\n",
              "      <td>2.243103</td>\n",
              "      <td>-68.253601</td>\n",
              "      <td>21.673889</td>\n",
              "      <td>82.030411</td>\n",
              "      <td>3.660676</td>\n",
              "      <td>4.460266</td>\n",
              "      <td>3.192010</td>\n",
              "      <td>3.013680</td>\n",
              "      <td>0.000000</td>\n",
              "    </tr>\n",
              "    <tr>\n",
              "      <th>1</th>\n",
              "      <td>14.721252</td>\n",
              "      <td>-62.188171</td>\n",
              "      <td>-35.751892</td>\n",
              "      <td>38.479443</td>\n",
              "      <td>319.859131</td>\n",
              "      <td>3.627571</td>\n",
              "      <td>4.383438</td>\n",
              "      <td>3.724522</td>\n",
              "      <td>2.550228</td>\n",
              "      <td>1.386294</td>\n",
              "    </tr>\n",
              "    <tr>\n",
              "      <th>2</th>\n",
              "      <td>14.079951</td>\n",
              "      <td>-8.422974</td>\n",
              "      <td>-87.365540</td>\n",
              "      <td>13.028395</td>\n",
              "      <td>263.789581</td>\n",
              "      <td>3.930490</td>\n",
              "      <td>4.671636</td>\n",
              "      <td>3.350442</td>\n",
              "      <td>2.903090</td>\n",
              "      <td>1.386294</td>\n",
              "    </tr>\n",
              "    <tr>\n",
              "      <th>3</th>\n",
              "      <td>14.661968</td>\n",
              "      <td>-33.348572</td>\n",
              "      <td>48.912720</td>\n",
              "      <td>29.256182</td>\n",
              "      <td>245.556931</td>\n",
              "      <td>4.006894</td>\n",
              "      <td>4.758852</td>\n",
              "      <td>3.676419</td>\n",
              "      <td>3.040602</td>\n",
              "      <td>0.000000</td>\n",
              "    </tr>\n",
              "    <tr>\n",
              "      <th>4</th>\n",
              "      <td>14.238879</td>\n",
              "      <td>-89.837463</td>\n",
              "      <td>-39.299622</td>\n",
              "      <td>26.789837</td>\n",
              "      <td>192.263596</td>\n",
              "      <td>3.598024</td>\n",
              "      <td>4.372009</td>\n",
              "      <td>3.380211</td>\n",
              "      <td>3.228657</td>\n",
              "      <td>1.386294</td>\n",
              "    </tr>\n",
              "    <tr>\n",
              "      <th>...</th>\n",
              "      <td>...</td>\n",
              "      <td>...</td>\n",
              "      <td>...</td>\n",
              "      <td>...</td>\n",
              "      <td>...</td>\n",
              "      <td>...</td>\n",
              "      <td>...</td>\n",
              "      <td>...</td>\n",
              "      <td>...</td>\n",
              "      <td>...</td>\n",
              "    </tr>\n",
              "    <tr>\n",
              "      <th>708930</th>\n",
              "      <td>15.409324</td>\n",
              "      <td>-56.603333</td>\n",
              "      <td>-30.968201</td>\n",
              "      <td>32.021900</td>\n",
              "      <td>93.730156</td>\n",
              "      <td>4.445527</td>\n",
              "      <td>5.206648</td>\n",
              "      <td>4.451541</td>\n",
              "      <td>3.411451</td>\n",
              "      <td>4.025352</td>\n",
              "    </tr>\n",
              "    <tr>\n",
              "      <th>708931</th>\n",
              "      <td>14.231819</td>\n",
              "      <td>37.949219</td>\n",
              "      <td>-76.676575</td>\n",
              "      <td>23.864639</td>\n",
              "      <td>94.082687</td>\n",
              "      <td>3.596487</td>\n",
              "      <td>4.386535</td>\n",
              "      <td>3.327154</td>\n",
              "      <td>3.197556</td>\n",
              "      <td>0.000000</td>\n",
              "    </tr>\n",
              "    <tr>\n",
              "      <th>708932</th>\n",
              "      <td>14.155507</td>\n",
              "      <td>52.666504</td>\n",
              "      <td>27.992676</td>\n",
              "      <td>32.300289</td>\n",
              "      <td>346.376343</td>\n",
              "      <td>3.443889</td>\n",
              "      <td>4.215426</td>\n",
              "      <td>3.246499</td>\n",
              "      <td>2.970347</td>\n",
              "      <td>0.000000</td>\n",
              "    </tr>\n",
              "    <tr>\n",
              "      <th>708933</th>\n",
              "      <td>14.674331</td>\n",
              "      <td>-55.184265</td>\n",
              "      <td>-9.475830</td>\n",
              "      <td>38.424881</td>\n",
              "      <td>128.708206</td>\n",
              "      <td>3.685114</td>\n",
              "      <td>4.445168</td>\n",
              "      <td>3.767304</td>\n",
              "      <td>2.755112</td>\n",
              "      <td>3.332205</td>\n",
              "    </tr>\n",
              "    <tr>\n",
              "      <th>708934</th>\n",
              "      <td>14.103773</td>\n",
              "      <td>3.410400</td>\n",
              "      <td>-42.206482</td>\n",
              "      <td>26.735277</td>\n",
              "      <td>335.557922</td>\n",
              "      <td>2.987666</td>\n",
              "      <td>3.743274</td>\n",
              "      <td>3.261501</td>\n",
              "      <td>2.152288</td>\n",
              "      <td>3.332205</td>\n",
              "    </tr>\n",
              "  </tbody>\n",
              "</table>\n",
              "<p>2835739 rows × 10 columns</p>\n",
              "</div>"
            ],
            "text/plain": [
              "             TrEP       TrXc       TrYc  ...      TrNm      TrNh      mass\n",
              "0       14.231187   2.243103 -68.253601  ...  3.192010  3.013680  0.000000\n",
              "1       14.721252 -62.188171 -35.751892  ...  3.724522  2.550228  1.386294\n",
              "2       14.079951  -8.422974 -87.365540  ...  3.350442  2.903090  1.386294\n",
              "3       14.661968 -33.348572  48.912720  ...  3.676419  3.040602  0.000000\n",
              "4       14.238879 -89.837463 -39.299622  ...  3.380211  3.228657  1.386294\n",
              "...           ...        ...        ...  ...       ...       ...       ...\n",
              "708930  15.409324 -56.603333 -30.968201  ...  4.451541  3.411451  4.025352\n",
              "708931  14.231819  37.949219 -76.676575  ...  3.327154  3.197556  0.000000\n",
              "708932  14.155507  52.666504  27.992676  ...  3.246499  2.970347  0.000000\n",
              "708933  14.674331 -55.184265  -9.475830  ...  3.767304  2.755112  3.332205\n",
              "708934  14.103773   3.410400 -42.206482  ...  3.261501  2.152288  3.332205\n",
              "\n",
              "[2835739 rows x 10 columns]"
            ]
          },
          "metadata": {
            "tags": []
          },
          "execution_count": 44
        }
      ]
    },
    {
      "cell_type": "code",
      "metadata": {
        "id": "kS8DNtUmOpUK"
      },
      "source": [
        "target = 'mass'\n",
        "ignore_col = 'mass_idx'\n",
        "\n",
        "# data = data.head(100000)\n",
        "if \"Set\" not in data.columns:\n",
        "    data[\"Set\"] = np.random.choice([\"train\", \"valid\", \"test\"], p =[.8, .1, .1], size=(data.shape[0],))\n",
        "\n",
        "train_indices = data[data.Set==\"train\"].index\n",
        "valid_indices = data[data.Set==\"valid\"].index\n",
        "test_indices = data[data.Set==\"test\"].index"
      ],
      "execution_count": 45,
      "outputs": []
    },
    {
      "cell_type": "code",
      "metadata": {
        "id": "0-Y90Kea7-Vu",
        "colab": {
          "base_uri": "https://localhost:8080/"
        },
        "outputId": "3323cfff-1f08-4ae7-cca9-fe0737fe84b0"
      },
      "source": [
        "print(len(train_indices))\n",
        "print(len(valid_indices))\n",
        "print(len(test_indices))"
      ],
      "execution_count": 46,
      "outputs": [
        {
          "output_type": "stream",
          "text": [
            "2269073\n",
            "283416\n",
            "283250\n"
          ],
          "name": "stdout"
        }
      ]
    },
    {
      "cell_type": "markdown",
      "metadata": {
        "id": "7-C4rioNOpUN"
      },
      "source": [
        "### Simple preprocessing\n",
        "\n",
        "Label encode categorical features and fill empty cells."
      ]
    },
    {
      "cell_type": "code",
      "metadata": {
        "id": "PnF8ItYVOpUN"
      },
      "source": [
        "nunique = data.nunique()\n",
        "types = data.dtypes\n",
        "\n",
        "categorical_columns = []\n",
        "categorical_dims =  {}\n",
        "\n",
        "# for col in data.columns:\n",
        "#     if types[col] == 'object' or nunique[col] < 200:\n",
        "#         print(col, data[col].nunique())\n",
        "#         l_enc = LabelEncoder()\n",
        "#         data[col] = data[col].fillna(\"VV_likely\")\n",
        "#         data[col] = l_enc.fit_transform(data[col].values)\n",
        "#         categorical_columns.append(col)\n",
        "#         categorical_dims[col] = len(l_enc.classes_)\n",
        "#     else:\n",
        "#         data.fillna(data.loc[train_indices, col].mean(), inplace=True)"
      ],
      "execution_count": 47,
      "outputs": []
    },
    {
      "cell_type": "markdown",
      "metadata": {
        "id": "QSEN6vGCOpUQ"
      },
      "source": [
        "### Define categorical features for categorical embeddings"
      ]
    },
    {
      "cell_type": "code",
      "metadata": {
        "id": "Vq82x_iuOpUR"
      },
      "source": [
        "unused_feat = ['Set', ignore_col]\n",
        "\n",
        "features = [ col for col in data.columns if col not in unused_feat+[target]] \n",
        "\n",
        "cat_idxs = [ i for i, f in enumerate(features) if f in categorical_columns]\n",
        "\n",
        "cat_dims = [ categorical_dims[f] for i, f in enumerate(features) if f in categorical_columns]\n"
      ],
      "execution_count": 48,
      "outputs": []
    },
    {
      "cell_type": "markdown",
      "metadata": {
        "id": "fanmYfB_OpUZ"
      },
      "source": [
        "# Training"
      ]
    },
    {
      "cell_type": "code",
      "metadata": {
        "id": "7ZP_eZwxUXzU"
      },
      "source": [
        "X_train = data[features].values[train_indices]\n",
        "y_train = data[target].values[train_indices]\n",
        "\n",
        "X_valid = data[features].values[valid_indices]\n",
        "y_valid = data[target].values[valid_indices]\n",
        "\n",
        "X_test = data[features].values[test_indices]\n",
        "y_test = data[target].values[test_indices]\n",
        "\n",
        "n_targets = 1\n",
        "y_train = np.transpose(np.tile(y_train, (n_targets,1)))\n",
        "y_valid = np.transpose(np.tile(y_valid, (n_targets,1)))\n",
        "y_test = np.transpose(np.tile(y_test, (n_targets,1)))"
      ],
      "execution_count": 51,
      "outputs": []
    },
    {
      "cell_type": "code",
      "metadata": {
        "id": "ibkbzWyCgyAk",
        "colab": {
          "base_uri": "https://localhost:8080/"
        },
        "outputId": "44e883c3-294e-4046-c7e3-0ed819375e5e"
      },
      "source": [
        "print(f'TRAIN:\\t{X_train.shape},\\t{y_train.shape}')\n",
        "print(f'VAILD:\\t{X_valid.shape},\\t{y_valid.shape}')\n",
        "print(f'TEST:\\t{X_test.shape},\\t{y_test.shape}')"
      ],
      "execution_count": 52,
      "outputs": [
        {
          "output_type": "stream",
          "text": [
            "TRAIN:\t(2269073, 9),\t(2269073, 1)\n",
            "VAILD:\t(283416, 9),\t(283416, 1)\n",
            "TEST:\t(283250, 9),\t(283250, 1)\n"
          ],
          "name": "stdout"
        }
      ]
    },
    {
      "cell_type": "markdown",
      "metadata": {
        "id": "lhaCbq7P0x_S"
      },
      "source": [
        "## sklearn"
      ]
    },
    {
      "cell_type": "code",
      "metadata": {
        "id": "XfRzGv-w0RWO"
      },
      "source": [
        "from sklearn.tree import ExtraTreeRegressor, DecisionTreeRegressor\n",
        "regressor = DecisionTreeRegressor(splitter='random', max_depth=70)"
      ],
      "execution_count": 53,
      "outputs": []
    },
    {
      "cell_type": "code",
      "metadata": {
        "id": "N7roaTFG0TP9",
        "colab": {
          "base_uri": "https://localhost:8080/"
        },
        "outputId": "051dc22e-f5d2-4ae9-b040-4c9d4acdbcdb"
      },
      "source": [
        "regressor.fit(np.concatenate((X_train, X_valid), axis=0), np.concatenate((y_train, y_valid), axis=0))\n",
        "print(regressor.score(X_test, y_test))"
      ],
      "execution_count": 54,
      "outputs": [
        {
          "output_type": "stream",
          "text": [
            "0.8804645984600941\n"
          ],
          "name": "stdout"
        }
      ]
    },
    {
      "cell_type": "code",
      "metadata": {
        "id": "Zx5CJ9f20l1C"
      },
      "source": [
        "sk_preds = regressor.predict(X_test)"
      ],
      "execution_count": 55,
      "outputs": []
    },
    {
      "cell_type": "code",
      "metadata": {
        "id": "9vxvAL4V1509",
        "colab": {
          "base_uri": "https://localhost:8080/"
        },
        "outputId": "632f9cf1-6527-4394-e7a4-57913cd4263b"
      },
      "source": [
        "error_list = []\n",
        "total = 0\n",
        "true_count_sk = 0\n",
        "error_range = 0.1\n",
        "for yy_true, yy_pred_sk in zip(y_test, sk_preds):\n",
        "  yy_true = yy_true[0]\n",
        "  error_b = abs(yy_pred_sk - yy_true)\n",
        "  error_list.append([ yy_true, yy_pred_sk, error_b])\n",
        "  total += 1\n",
        "\n",
        "  if error_b < error_range:\n",
        "    true_count_sk += 1\n",
        "print(f'{true_count_sk/total*100:0.2f}%')\n",
        "error_list = np.array(error_list)\n",
        "res_df = pd.DataFrame(error_list, columns=['y_true', 'y_pred_sk', 'error_sk'])"
      ],
      "execution_count": 71,
      "outputs": [
        {
          "output_type": "stream",
          "text": [
            "85.74%\n"
          ],
          "name": "stdout"
        }
      ]
    },
    {
      "cell_type": "code",
      "metadata": {
        "colab": {
          "base_uri": "https://localhost:8080/",
          "height": 287
        },
        "id": "pi7cYYe9HuSy",
        "outputId": "4c83c945-aa58-49ae-8da3-1b77bbdc1465"
      },
      "source": [
        "res_df.describe()"
      ],
      "execution_count": 64,
      "outputs": [
        {
          "output_type": "execute_result",
          "data": {
            "text/html": [
              "<div>\n",
              "<style scoped>\n",
              "    .dataframe tbody tr th:only-of-type {\n",
              "        vertical-align: middle;\n",
              "    }\n",
              "\n",
              "    .dataframe tbody tr th {\n",
              "        vertical-align: top;\n",
              "    }\n",
              "\n",
              "    .dataframe thead th {\n",
              "        text-align: right;\n",
              "    }\n",
              "</style>\n",
              "<table border=\"1\" class=\"dataframe\">\n",
              "  <thead>\n",
              "    <tr style=\"text-align: right;\">\n",
              "      <th></th>\n",
              "      <th>y_true</th>\n",
              "      <th>y_pred_sk</th>\n",
              "      <th>error_sk</th>\n",
              "    </tr>\n",
              "  </thead>\n",
              "  <tbody>\n",
              "    <tr>\n",
              "      <th>count</th>\n",
              "      <td>283250.000000</td>\n",
              "      <td>283250.000000</td>\n",
              "      <td>2.832500e+05</td>\n",
              "    </tr>\n",
              "    <tr>\n",
              "      <th>mean</th>\n",
              "      <td>2.153875</td>\n",
              "      <td>2.151581</td>\n",
              "      <td>1.715915e-01</td>\n",
              "    </tr>\n",
              "    <tr>\n",
              "      <th>std</th>\n",
              "      <td>1.418904</td>\n",
              "      <td>1.419325</td>\n",
              "      <td>4.595818e-01</td>\n",
              "    </tr>\n",
              "    <tr>\n",
              "      <th>min</th>\n",
              "      <td>0.000000</td>\n",
              "      <td>0.000000</td>\n",
              "      <td>0.000000e+00</td>\n",
              "    </tr>\n",
              "    <tr>\n",
              "      <th>25%</th>\n",
              "      <td>1.386294</td>\n",
              "      <td>1.386294</td>\n",
              "      <td>0.000000e+00</td>\n",
              "    </tr>\n",
              "    <tr>\n",
              "      <th>50%</th>\n",
              "      <td>2.484907</td>\n",
              "      <td>2.484907</td>\n",
              "      <td>0.000000e+00</td>\n",
              "    </tr>\n",
              "    <tr>\n",
              "      <th>75%</th>\n",
              "      <td>3.332205</td>\n",
              "      <td>3.332205</td>\n",
              "      <td>4.440892e-16</td>\n",
              "    </tr>\n",
              "    <tr>\n",
              "      <th>max</th>\n",
              "      <td>4.025352</td>\n",
              "      <td>4.025352</td>\n",
              "      <td>4.025352e+00</td>\n",
              "    </tr>\n",
              "  </tbody>\n",
              "</table>\n",
              "</div>"
            ],
            "text/plain": [
              "              y_true      y_pred_sk      error_sk\n",
              "count  283250.000000  283250.000000  2.832500e+05\n",
              "mean        2.153875       2.151581  1.715915e-01\n",
              "std         1.418904       1.419325  4.595818e-01\n",
              "min         0.000000       0.000000  0.000000e+00\n",
              "25%         1.386294       1.386294  0.000000e+00\n",
              "50%         2.484907       2.484907  0.000000e+00\n",
              "75%         3.332205       3.332205  4.440892e-16\n",
              "max         4.025352       4.025352  4.025352e+00"
            ]
          },
          "metadata": {
            "tags": []
          },
          "execution_count": 64
        }
      ]
    },
    {
      "cell_type": "code",
      "metadata": {
        "id": "H5CSAoOCxGRz"
      },
      "source": [
        "import seaborn as sns"
      ],
      "execution_count": 65,
      "outputs": []
    },
    {
      "cell_type": "code",
      "metadata": {
        "id": "Vc4Q8weN1Uxu",
        "colab": {
          "base_uri": "https://localhost:8080/",
          "height": 297
        },
        "outputId": "521ddc7f-587d-4b33-d815-ab519442f1f6"
      },
      "source": [
        "sns.scatterplot(data=res_df, x='y_true', y='y_pred_sk')\n",
        "plt.plot([0, 4], [0, 4], linewidth=2, color='black')"
      ],
      "execution_count": 66,
      "outputs": [
        {
          "output_type": "execute_result",
          "data": {
            "text/plain": [
              "[<matplotlib.lines.Line2D at 0x7f5b4d174630>]"
            ]
          },
          "metadata": {
            "tags": []
          },
          "execution_count": 66
        },
        {
          "output_type": "display_data",
          "data": {
            "image/png": "[encoded data removed]",
            "text/plain": [
              "<Figure size 432x288 with 1 Axes>"
            ]
          },
          "metadata": {
            "tags": [],
            "needs_background": "light"
          }
        }
      ]
    },
    {
      "cell_type": "code",
      "metadata": {
        "id": "Jt2WhS9XBidV",
        "colab": {
          "base_uri": "https://localhost:8080/",
          "height": 480
        },
        "outputId": "061ee9a6-92c5-421d-ba7f-d3e9737a016b"
      },
      "source": [
        "bins_width = 0.1\n",
        "bins_min, bins_max = -1, 5\n",
        "bins = np.arange(bins_min+bins_width/2, bins_max+bins_width/2, bins_width)\n",
        "pl = sns.displot(res_df, x=\"error_sk\", bins=bins)\n",
        "print(bins)\n",
        "# Add a title to the Figure\n",
        "pl.fig.set_size_inches(10, 5)\n",
        "pl.fig.suptitle(\"Errors\", fontsize=12)"
      ],
      "execution_count": 73,
      "outputs": [
        {
          "output_type": "stream",
          "text": [
            "[-0.95 -0.85 -0.75 -0.65 -0.55 -0.45 -0.35 -0.25 -0.15 -0.05  0.05  0.15\n",
            "  0.25  0.35  0.45  0.55  0.65  0.75  0.85  0.95  1.05  1.15  1.25  1.35\n",
            "  1.45  1.55  1.65  1.75  1.85  1.95  2.05  2.15  2.25  2.35  2.45  2.55\n",
            "  2.65  2.75  2.85  2.95  3.05  3.15  3.25  3.35  3.45  3.55  3.65  3.75\n",
            "  3.85  3.95  4.05  4.15  4.25  4.35  4.45  4.55  4.65  4.75  4.85  4.95]\n"
          ],
          "name": "stdout"
        },
        {
          "output_type": "execute_result",
          "data": {
            "text/plain": [
              "Text(0.5, 0.98, 'Errors')"
            ]
          },
          "metadata": {
            "tags": []
          },
          "execution_count": 73
        },
        {
          "output_type": "display_data",
          "data": {
            "image/png": "[encoded data removed]",
            "text/plain": [
              "<Figure size 720x360 with 1 Axes>"
            ]
          },
          "metadata": {
            "tags": [],
            "needs_background": "light"
          }
        }
      ]
    },
    {
      "cell_type": "markdown",
      "metadata": {
        "id": "2IrWTsUn29ng"
      },
      "source": [
        "## TabNet"
      ]
    },
    {
      "cell_type": "code",
      "metadata": {
        "id": "YavvdKjNOpUV",
        "colab": {
          "base_uri": "https://localhost:8080/"
        },
        "outputId": "5e40c563-1610-4910-a00a-62272e66f993"
      },
      "source": [
        "# Network parameters\n",
        "max_epochs = 100 if not os.getenv(\"CI\", False) else 2\n",
        "batch_size = 10240\n",
        "\n",
        "# net = TabNetClassifier(cat_idxs=cat_idxs,\n",
        "#                        cat_dims=cat_dims,\n",
        "#                        cat_emb_dim=1,\n",
        "#                        optimizer_fn=torch.optim.Adam, # Any optimizer works here\n",
        "#                        optimizer_params=dict(lr=2e-2),\n",
        "#                        scheduler_fn=torch.optim.lr_scheduler.OneCycleLR,\n",
        "#                        scheduler_params={\"is_batch_level\":True,\n",
        "#                                          \"max_lr\":5e-2,\n",
        "#                                          \"steps_per_epoch\":int(data.shape[0] / batch_size)+1,\n",
        "#                                          \"epochs\":max_epochs\n",
        "#                                           },\n",
        "#                        mask_type='entmax', # \"sparsemax\",\n",
        "#                       )\n",
        "\n",
        "# net = TabNetRegressor(cat_idxs=cat_idxs,\n",
        "#                       cat_dims=cat_dims,\n",
        "#                       cat_emb_dim=1,\n",
        "#                       optimizer_fn=torch.optim.Adam, # Any optimizer works here\n",
        "#                       optimizer_params=dict(lr=1e-6),\n",
        "#                       scheduler_fn=torch.optim.lr_scheduler.OneCycleLR,\n",
        "#                       scheduler_params={\"is_batch_level\":True,\n",
        "#                                         \"max_lr\":2e-4,\n",
        "#                                         \"steps_per_epoch\":int(data.shape[0] / batch_size)+1,\n",
        "#                                         \"epochs\":max_epochs\n",
        "#                                         },\n",
        "#                       mask_type='entmax', # \"sparsemax\",\n",
        "#                       )\n",
        "\n",
        "net = TabNetRegressor(cat_idxs=cat_idxs,\n",
        "                      cat_dims=cat_dims,\n",
        "                      cat_emb_dim=1,\n",
        "                      optimizer_fn=torch.optim.Adam, # Any optimizer works here\n",
        "                      optimizer_params=dict(lr=1e-4),\n",
        "                      scheduler_fn=torch.optim.lr_scheduler.ReduceLROnPlateau,\n",
        "                      scheduler_params={\"patience\":10,\n",
        "                                        \"threshold\":0.01,\n",
        "                                        },\n",
        "                      mask_type='entmax', # \"sparsemax\",\n",
        "                      )"
      ],
      "execution_count": null,
      "outputs": [
        {
          "output_type": "stream",
          "text": [
            "Device used : cuda\n"
          ],
          "name": "stdout"
        }
      ]
    },
    {
      "cell_type": "code",
      "metadata": {
        "id": "jMRlnODfelDr"
      },
      "source": [
        "net.scheduler_params['threshold'] = 0.01\r\n",
        "net.scheduler_params['patience'] = 10\r\n",
        "net.scheduler_params['factor'] = 0.1\r\n",
        "net.optimizer_params=dict(lr=1e-4)\r\n",
        "net.optimizer_fn=torch.optim.Adam\r\n",
        "max_epochs = 200 if not os.getenv(\"CI\", False) else 2"
      ],
      "execution_count": null,
      "outputs": []
    },
    {
      "cell_type": "code",
      "metadata": {
        "id": "8-daIqNYOpUl",
        "colab": {
          "base_uri": "https://localhost:8080/"
        },
        "outputId": "b76cc51d-36d2-423c-b56d-34caa9c12dcd"
      },
      "source": [
        "net.fit(\n",
        "    X_train=X_train, y_train=y_train,\n",
        "    eval_set=[(X_train, y_train), (X_valid, y_valid)],\n",
        "    eval_name=['train', 'val'],\n",
        "    eval_metric=['mse'],  # choose in ['auc', 'accuracy', 'balanced_accuracy', 'logloss', 'mae', 'mse', 'rmse', 'custom', 'custom', 'custom']\n",
        "    max_epochs=max_epochs,\n",
        "    patience=0,\n",
        "    batch_size=batch_size,\n",
        "    virtual_batch_size=batch_size/8,\n",
        "    num_workers=0,\n",
        "    drop_last=False,\n",
        "    # loss_fn=my_loss_fn\n",
        ") \n"
      ],
      "execution_count": null,
      "outputs": [
        {
          "output_type": "stream",
          "text": [
            "No early stopping will be performed, last training weights will be used.\n",
            "epoch 0  | loss: 0.36297 | train_mse: 0.35541 | val_mse: 0.35544 |  0:01:13s\n",
            "epoch 1  | loss: 0.36183 | train_mse: 0.35434 | val_mse: 0.35438 |  0:02:26s\n",
            "epoch 2  | loss: 0.36058 | train_mse: 0.35301 | val_mse: 0.35307 |  0:03:40s\n",
            "epoch 3  | loss: 0.35938 | train_mse: 0.35216 | val_mse: 0.35218 |  0:04:52s\n",
            "epoch 4  | loss: 0.35836 | train_mse: 0.35107 | val_mse: 0.3511  |  0:06:05s\n",
            "epoch 5  | loss: 0.35741 | train_mse: 0.35022 | val_mse: 0.35017 |  0:07:19s\n",
            "epoch 6  | loss: 0.35647 | train_mse: 0.34943 | val_mse: 0.34947 |  0:08:32s\n",
            "epoch 7  | loss: 0.35574 | train_mse: 0.34879 | val_mse: 0.34882 |  0:09:44s\n",
            "epoch 8  | loss: 0.35479 | train_mse: 0.34788 | val_mse: 0.34791 |  0:10:55s\n",
            "epoch 9  | loss: 0.3541  | train_mse: 0.34731 | val_mse: 0.34735 |  0:12:06s\n",
            "epoch 10 | loss: 0.35326 | train_mse: 0.34654 | val_mse: 0.34657 |  0:13:17s\n",
            "epoch 11 | loss: 0.35257 | train_mse: 0.34609 | val_mse: 0.34605 |  0:14:29s\n",
            "epoch 12 | loss: 0.35223 | train_mse: 0.34525 | val_mse: 0.34529 |  0:15:40s\n",
            "epoch 13 | loss: 0.3515  | train_mse: 0.34477 | val_mse: 0.34483 |  0:16:52s\n",
            "epoch 14 | loss: 0.35117 | train_mse: 0.34457 | val_mse: 0.3445  |  0:18:03s\n",
            "epoch 15 | loss: 0.35039 | train_mse: 0.34409 | val_mse: 0.34414 |  0:19:14s\n",
            "epoch 16 | loss: 0.35003 | train_mse: 0.34335 | val_mse: 0.34348 |  0:20:26s\n",
            "epoch 17 | loss: 0.34946 | train_mse: 0.34317 | val_mse: 0.34335 |  0:21:37s\n",
            "epoch 18 | loss: 0.34909 | train_mse: 0.34258 | val_mse: 0.34269 |  0:22:48s\n",
            "epoch 19 | loss: 0.34877 | train_mse: 0.34219 | val_mse: 0.34231 |  0:23:59s\n",
            "epoch 20 | loss: 0.34837 | train_mse: 0.34203 | val_mse: 0.34213 |  0:25:11s\n",
            "epoch 21 | loss: 0.34778 | train_mse: 0.34154 | val_mse: 0.3417  |  0:26:23s\n",
            "epoch 22 | loss: 0.34764 | train_mse: 0.34127 | val_mse: 0.34148 |  0:27:34s\n",
            "epoch 23 | loss: 0.34719 | train_mse: 0.34107 | val_mse: 0.34124 |  0:28:46s\n",
            "epoch 24 | loss: 0.34674 | train_mse: 0.34056 | val_mse: 0.34076 |  0:29:57s\n",
            "epoch 25 | loss: 0.34659 | train_mse: 0.34037 | val_mse: 0.34054 |  0:31:08s\n",
            "epoch 26 | loss: 0.34622 | train_mse: 0.34    | val_mse: 0.34017 |  0:32:20s\n",
            "epoch 27 | loss: 0.34582 | train_mse: 0.34058 | val_mse: 0.34091 |  0:33:31s\n",
            "epoch 28 | loss: 0.34572 | train_mse: 0.33964 | val_mse: 0.33986 |  0:34:43s\n",
            "epoch 29 | loss: 0.34561 | train_mse: 0.33959 | val_mse: 0.33981 |  0:35:54s\n",
            "epoch 30 | loss: 0.34551 | train_mse: 0.3396  | val_mse: 0.33982 |  0:37:05s\n",
            "epoch 31 | loss: 0.34561 | train_mse: 0.33953 | val_mse: 0.33975 |  0:38:16s\n",
            "epoch 32 | loss: 0.34559 | train_mse: 0.33957 | val_mse: 0.33977 |  0:39:27s\n",
            "epoch 33 | loss: 0.34542 | train_mse: 0.33953 | val_mse: 0.33974 |  0:40:38s\n",
            "epoch 34 | loss: 0.34552 | train_mse: 0.33949 | val_mse: 0.33974 |  0:41:49s\n",
            "epoch 35 | loss: 0.34532 | train_mse: 0.33943 | val_mse: 0.33968 |  0:43:00s\n",
            "epoch 36 | loss: 0.34541 | train_mse: 0.33946 | val_mse: 0.33968 |  0:44:11s\n",
            "epoch 37 | loss: 0.34532 | train_mse: 0.33941 | val_mse: 0.33966 |  0:45:22s\n",
            "epoch 38 | loss: 0.34534 | train_mse: 0.33937 | val_mse: 0.33959 |  0:46:32s\n",
            "epoch 39 | loss: 0.34536 | train_mse: 0.33934 | val_mse: 0.33954 |  0:47:43s\n",
            "epoch 40 | loss: 0.34522 | train_mse: 0.3394  | val_mse: 0.33961 |  0:48:54s\n",
            "epoch 41 | loss: 0.34537 | train_mse: 0.33942 | val_mse: 0.33966 |  0:50:04s\n",
            "epoch 42 | loss: 0.34528 | train_mse: 0.33943 | val_mse: 0.33965 |  0:51:15s\n",
            "epoch 43 | loss: 0.34535 | train_mse: 0.33936 | val_mse: 0.33962 |  0:52:26s\n",
            "epoch 44 | loss: 0.34526 | train_mse: 0.33933 | val_mse: 0.33955 |  0:53:37s\n",
            "epoch 45 | loss: 0.34518 | train_mse: 0.33933 | val_mse: 0.33955 |  0:54:48s\n",
            "epoch 46 | loss: 0.34522 | train_mse: 0.33939 | val_mse: 0.33961 |  0:55:59s\n",
            "epoch 47 | loss: 0.34541 | train_mse: 0.33932 | val_mse: 0.33954 |  0:57:09s\n",
            "epoch 48 | loss: 0.34517 | train_mse: 0.33934 | val_mse: 0.33958 |  0:58:20s\n",
            "epoch 49 | loss: 0.34548 | train_mse: 0.33932 | val_mse: 0.33956 |  0:59:31s\n",
            "epoch 50 | loss: 0.34537 | train_mse: 0.33936 | val_mse: 0.33958 |  1:00:41s\n",
            "epoch 51 | loss: 0.3451  | train_mse: 0.33932 | val_mse: 0.33954 |  1:01:52s\n",
            "epoch 52 | loss: 0.34517 | train_mse: 0.3393  | val_mse: 0.33954 |  1:03:03s\n",
            "epoch 53 | loss: 0.34521 | train_mse: 0.33931 | val_mse: 0.33954 |  1:04:13s\n",
            "epoch 54 | loss: 0.34511 | train_mse: 0.33931 | val_mse: 0.33955 |  1:05:23s\n",
            "epoch 55 | loss: 0.34523 | train_mse: 0.3393  | val_mse: 0.33954 |  1:06:35s\n",
            "epoch 56 | loss: 0.34517 | train_mse: 0.33937 | val_mse: 0.33959 |  1:07:45s\n",
            "epoch 57 | loss: 0.34523 | train_mse: 0.33934 | val_mse: 0.33958 |  1:08:57s\n",
            "epoch 58 | loss: 0.34527 | train_mse: 0.33931 | val_mse: 0.33955 |  1:10:08s\n",
            "epoch 59 | loss: 0.34514 | train_mse: 0.33931 | val_mse: 0.33953 |  1:11:20s\n",
            "epoch 60 | loss: 0.34524 | train_mse: 0.33933 | val_mse: 0.33957 |  1:12:31s\n",
            "epoch 61 | loss: 0.3452  | train_mse: 0.33932 | val_mse: 0.33956 |  1:13:43s\n",
            "epoch 62 | loss: 0.34526 | train_mse: 0.33934 | val_mse: 0.33955 |  1:14:55s\n",
            "epoch 63 | loss: 0.34524 | train_mse: 0.33932 | val_mse: 0.33955 |  1:16:08s\n",
            "epoch 64 | loss: 0.34525 | train_mse: 0.33932 | val_mse: 0.33956 |  1:17:20s\n",
            "epoch 65 | loss: 0.34524 | train_mse: 0.33932 | val_mse: 0.33954 |  1:18:32s\n",
            "epoch 66 | loss: 0.34521 | train_mse: 0.33931 | val_mse: 0.33952 |  1:19:44s\n",
            "epoch 67 | loss: 0.34513 | train_mse: 0.3393  | val_mse: 0.33954 |  1:20:55s\n",
            "epoch 68 | loss: 0.34521 | train_mse: 0.33935 | val_mse: 0.3396  |  1:22:08s\n",
            "epoch 69 | loss: 0.34525 | train_mse: 0.33932 | val_mse: 0.33953 |  1:23:20s\n",
            "epoch 70 | loss: 0.34524 | train_mse: 0.33931 | val_mse: 0.33954 |  1:24:31s\n",
            "epoch 71 | loss: 0.34525 | train_mse: 0.33929 | val_mse: 0.33952 |  1:25:44s\n",
            "epoch 72 | loss: 0.34523 | train_mse: 0.33929 | val_mse: 0.33953 |  1:26:56s\n",
            "epoch 73 | loss: 0.34535 | train_mse: 0.33929 | val_mse: 0.3395  |  1:28:08s\n",
            "epoch 74 | loss: 0.3453  | train_mse: 0.3393  | val_mse: 0.33955 |  1:29:20s\n",
            "epoch 75 | loss: 0.34513 | train_mse: 0.33932 | val_mse: 0.33957 |  1:30:31s\n",
            "epoch 76 | loss: 0.3452  | train_mse: 0.33934 | val_mse: 0.33956 |  1:31:44s\n",
            "epoch 77 | loss: 0.34517 | train_mse: 0.33935 | val_mse: 0.33959 |  1:32:56s\n",
            "epoch 78 | loss: 0.34522 | train_mse: 0.33932 | val_mse: 0.33954 |  1:34:09s\n",
            "epoch 79 | loss: 0.34516 | train_mse: 0.33934 | val_mse: 0.33955 |  1:35:21s\n",
            "epoch 80 | loss: 0.34535 | train_mse: 0.33935 | val_mse: 0.33958 |  1:36:32s\n",
            "epoch 81 | loss: 0.34532 | train_mse: 0.3393  | val_mse: 0.33954 |  1:37:44s\n",
            "epoch 82 | loss: 0.34515 | train_mse: 0.33929 | val_mse: 0.33951 |  1:38:58s\n",
            "epoch 83 | loss: 0.34537 | train_mse: 0.33933 | val_mse: 0.33958 |  1:40:10s\n",
            "epoch 84 | loss: 0.34524 | train_mse: 0.3393  | val_mse: 0.33952 |  1:41:21s\n",
            "epoch 85 | loss: 0.3451  | train_mse: 0.33933 | val_mse: 0.33954 |  1:42:32s\n",
            "epoch 86 | loss: 0.34528 | train_mse: 0.33936 | val_mse: 0.3396  |  1:43:44s\n",
            "epoch 87 | loss: 0.34535 | train_mse: 0.33931 | val_mse: 0.33954 |  1:44:55s\n",
            "epoch 88 | loss: 0.34526 | train_mse: 0.33931 | val_mse: 0.33954 |  1:46:07s\n",
            "epoch 89 | loss: 0.34527 | train_mse: 0.3393  | val_mse: 0.33953 |  1:47:20s\n",
            "epoch 90 | loss: 0.3453  | train_mse: 0.33932 | val_mse: 0.33955 |  1:48:32s\n",
            "epoch 91 | loss: 0.34534 | train_mse: 0.33931 | val_mse: 0.33955 |  1:49:45s\n",
            "epoch 92 | loss: 0.34516 | train_mse: 0.33931 | val_mse: 0.33955 |  1:50:57s\n",
            "epoch 93 | loss: 0.34519 | train_mse: 0.33937 | val_mse: 0.33959 |  1:52:10s\n",
            "epoch 94 | loss: 0.34535 | train_mse: 0.33931 | val_mse: 0.33953 |  1:53:24s\n",
            "epoch 95 | loss: 0.34532 | train_mse: 0.33929 | val_mse: 0.33951 |  1:54:37s\n",
            "epoch 96 | loss: 0.34529 | train_mse: 0.33939 | val_mse: 0.33963 |  1:55:49s\n",
            "epoch 97 | loss: 0.34532 | train_mse: 0.3393  | val_mse: 0.33954 |  1:57:03s\n",
            "epoch 98 | loss: 0.34519 | train_mse: 0.33931 | val_mse: 0.33956 |  1:58:15s\n",
            "epoch 99 | loss: 0.34531 | train_mse: 0.3393  | val_mse: 0.33954 |  1:59:28s\n",
            "epoch 100| loss: 0.34527 | train_mse: 0.33936 | val_mse: 0.33959 |  2:00:40s\n",
            "epoch 101| loss: 0.34524 | train_mse: 0.33931 | val_mse: 0.33955 |  2:01:53s\n",
            "epoch 102| loss: 0.34529 | train_mse: 0.33931 | val_mse: 0.33955 |  2:03:06s\n",
            "epoch 103| loss: 0.34522 | train_mse: 0.33931 | val_mse: 0.33955 |  2:04:19s\n",
            "epoch 104| loss: 0.34529 | train_mse: 0.33929 | val_mse: 0.33954 |  2:05:32s\n",
            "epoch 105| loss: 0.34521 | train_mse: 0.33932 | val_mse: 0.33954 |  2:06:46s\n",
            "epoch 106| loss: 0.34519 | train_mse: 0.33933 | val_mse: 0.33953 |  2:07:59s\n",
            "epoch 107| loss: 0.3452  | train_mse: 0.33928 | val_mse: 0.33953 |  2:09:13s\n",
            "epoch 108| loss: 0.3453  | train_mse: 0.33932 | val_mse: 0.33955 |  2:10:26s\n",
            "epoch 109| loss: 0.34533 | train_mse: 0.3393  | val_mse: 0.33954 |  2:11:38s\n",
            "epoch 110| loss: 0.34516 | train_mse: 0.33932 | val_mse: 0.33957 |  2:12:51s\n",
            "epoch 111| loss: 0.34528 | train_mse: 0.33935 | val_mse: 0.33959 |  2:14:04s\n",
            "epoch 112| loss: 0.34534 | train_mse: 0.33933 | val_mse: 0.33957 |  2:15:17s\n",
            "epoch 113| loss: 0.34523 | train_mse: 0.33931 | val_mse: 0.33953 |  2:16:30s\n",
            "epoch 114| loss: 0.34537 | train_mse: 0.33936 | val_mse: 0.33958 |  2:17:43s\n",
            "epoch 115| loss: 0.34521 | train_mse: 0.33929 | val_mse: 0.33953 |  2:18:56s\n",
            "epoch 116| loss: 0.3451  | train_mse: 0.33936 | val_mse: 0.3396  |  2:20:09s\n",
            "epoch 117| loss: 0.34517 | train_mse: 0.33931 | val_mse: 0.33954 |  2:21:22s\n",
            "epoch 118| loss: 0.34533 | train_mse: 0.33929 | val_mse: 0.33951 |  2:22:36s\n",
            "epoch 119| loss: 0.34526 | train_mse: 0.3393  | val_mse: 0.33953 |  2:23:49s\n",
            "epoch 120| loss: 0.34516 | train_mse: 0.33938 | val_mse: 0.3396  |  2:25:02s\n",
            "epoch 121| loss: 0.34536 | train_mse: 0.33931 | val_mse: 0.33954 |  2:26:15s\n",
            "epoch 122| loss: 0.34533 | train_mse: 0.3393  | val_mse: 0.33953 |  2:27:29s\n",
            "epoch 123| loss: 0.3452  | train_mse: 0.33933 | val_mse: 0.33956 |  2:28:42s\n",
            "epoch 124| loss: 0.34531 | train_mse: 0.33933 | val_mse: 0.33954 |  2:29:55s\n",
            "epoch 125| loss: 0.34516 | train_mse: 0.33933 | val_mse: 0.33954 |  2:31:08s\n",
            "epoch 126| loss: 0.34521 | train_mse: 0.3393  | val_mse: 0.33952 |  2:32:20s\n",
            "epoch 127| loss: 0.34525 | train_mse: 0.3393  | val_mse: 0.33954 |  2:33:33s\n",
            "epoch 128| loss: 0.34519 | train_mse: 0.33931 | val_mse: 0.33954 |  2:34:46s\n",
            "epoch 129| loss: 0.34533 | train_mse: 0.3393  | val_mse: 0.33953 |  2:35:58s\n",
            "epoch 130| loss: 0.34523 | train_mse: 0.33936 | val_mse: 0.33958 |  2:37:11s\n",
            "epoch 131| loss: 0.34521 | train_mse: 0.33932 | val_mse: 0.33954 |  2:38:23s\n",
            "epoch 132| loss: 0.34526 | train_mse: 0.33929 | val_mse: 0.33952 |  2:39:35s\n",
            "epoch 133| loss: 0.34519 | train_mse: 0.33932 | val_mse: 0.33954 |  2:40:47s\n",
            "epoch 134| loss: 0.34525 | train_mse: 0.33933 | val_mse: 0.33954 |  2:41:59s\n",
            "epoch 135| loss: 0.34526 | train_mse: 0.33933 | val_mse: 0.33956 |  2:43:11s\n",
            "epoch 136| loss: 0.34537 | train_mse: 0.3393  | val_mse: 0.33953 |  2:44:24s\n",
            "epoch 137| loss: 0.34533 | train_mse: 0.33937 | val_mse: 0.3396  |  2:45:37s\n",
            "epoch 138| loss: 0.3452  | train_mse: 0.3393  | val_mse: 0.33953 |  2:46:49s\n",
            "epoch 139| loss: 0.34532 | train_mse: 0.33929 | val_mse: 0.33954 |  2:48:02s\n",
            "epoch 140| loss: 0.34509 | train_mse: 0.33934 | val_mse: 0.33959 |  2:49:15s\n",
            "epoch 141| loss: 0.34523 | train_mse: 0.33932 | val_mse: 0.33955 |  2:50:28s\n",
            "epoch 142| loss: 0.34536 | train_mse: 0.33933 | val_mse: 0.33955 |  2:51:40s\n",
            "epoch 143| loss: 0.34533 | train_mse: 0.33934 | val_mse: 0.33956 |  2:52:53s\n",
            "epoch 144| loss: 0.34521 | train_mse: 0.33932 | val_mse: 0.33957 |  2:54:06s\n",
            "epoch 145| loss: 0.34534 | train_mse: 0.33932 | val_mse: 0.33955 |  2:55:19s\n",
            "epoch 146| loss: 0.34525 | train_mse: 0.33929 | val_mse: 0.33953 |  2:56:31s\n",
            "epoch 147| loss: 0.34531 | train_mse: 0.33935 | val_mse: 0.3396  |  2:57:44s\n",
            "epoch 148| loss: 0.34506 | train_mse: 0.33931 | val_mse: 0.33952 |  2:58:57s\n",
            "epoch 149| loss: 0.34519 | train_mse: 0.3393  | val_mse: 0.33954 |  3:00:10s\n",
            "epoch 150| loss: 0.34518 | train_mse: 0.3393  | val_mse: 0.33954 |  3:01:22s\n",
            "epoch 151| loss: 0.34523 | train_mse: 0.33934 | val_mse: 0.33956 |  3:02:34s\n",
            "epoch 152| loss: 0.34543 | train_mse: 0.33934 | val_mse: 0.33957 |  3:03:46s\n",
            "epoch 153| loss: 0.34546 | train_mse: 0.33931 | val_mse: 0.33953 |  3:04:58s\n",
            "epoch 154| loss: 0.34514 | train_mse: 0.3393  | val_mse: 0.33955 |  3:06:10s\n",
            "epoch 155| loss: 0.34521 | train_mse: 0.33939 | val_mse: 0.33962 |  3:07:21s\n",
            "epoch 156| loss: 0.34531 | train_mse: 0.33931 | val_mse: 0.33955 |  3:08:33s\n",
            "epoch 157| loss: 0.34515 | train_mse: 0.33931 | val_mse: 0.33954 |  3:09:45s\n",
            "epoch 158| loss: 0.34519 | train_mse: 0.33929 | val_mse: 0.33952 |  3:10:57s\n",
            "epoch 159| loss: 0.34526 | train_mse: 0.33934 | val_mse: 0.33959 |  3:12:09s\n",
            "epoch 160| loss: 0.3453  | train_mse: 0.33936 | val_mse: 0.33959 |  3:13:22s\n",
            "epoch 161| loss: 0.34539 | train_mse: 0.33936 | val_mse: 0.33958 |  3:14:35s\n",
            "epoch 162| loss: 0.34528 | train_mse: 0.3393  | val_mse: 0.33952 |  3:15:48s\n",
            "epoch 163| loss: 0.34529 | train_mse: 0.33932 | val_mse: 0.33955 |  3:17:01s\n",
            "epoch 164| loss: 0.34522 | train_mse: 0.3393  | val_mse: 0.33951 |  3:18:14s\n",
            "epoch 165| loss: 0.34518 | train_mse: 0.3393  | val_mse: 0.33952 |  3:19:27s\n",
            "epoch 166| loss: 0.34511 | train_mse: 0.33931 | val_mse: 0.33955 |  3:20:40s\n",
            "epoch 167| loss: 0.34535 | train_mse: 0.3393  | val_mse: 0.33953 |  3:21:53s\n",
            "epoch 168| loss: 0.34531 | train_mse: 0.33932 | val_mse: 0.33955 |  3:23:06s\n",
            "epoch 169| loss: 0.34536 | train_mse: 0.3393  | val_mse: 0.33952 |  3:24:20s\n",
            "epoch 170| loss: 0.34534 | train_mse: 0.33934 | val_mse: 0.33956 |  3:25:33s\n",
            "epoch 171| loss: 0.34509 | train_mse: 0.33933 | val_mse: 0.33955 |  3:26:46s\n",
            "epoch 172| loss: 0.34535 | train_mse: 0.3393  | val_mse: 0.33953 |  3:27:58s\n",
            "epoch 173| loss: 0.34503 | train_mse: 0.33934 | val_mse: 0.33958 |  3:29:10s\n",
            "epoch 174| loss: 0.34525 | train_mse: 0.33934 | val_mse: 0.33956 |  3:30:23s\n",
            "epoch 175| loss: 0.3452  | train_mse: 0.33931 | val_mse: 0.33953 |  3:31:36s\n",
            "epoch 176| loss: 0.34538 | train_mse: 0.33933 | val_mse: 0.33955 |  3:32:49s\n",
            "epoch 177| loss: 0.34532 | train_mse: 0.33931 | val_mse: 0.33954 |  3:34:02s\n",
            "epoch 178| loss: 0.34517 | train_mse: 0.33932 | val_mse: 0.33954 |  3:35:14s\n",
            "epoch 179| loss: 0.34512 | train_mse: 0.33935 | val_mse: 0.33957 |  3:36:27s\n",
            "epoch 180| loss: 0.34524 | train_mse: 0.33931 | val_mse: 0.33955 |  3:37:39s\n",
            "epoch 181| loss: 0.34527 | train_mse: 0.33929 | val_mse: 0.33952 |  3:38:52s\n",
            "epoch 182| loss: 0.34515 | train_mse: 0.33933 | val_mse: 0.33956 |  3:40:05s\n",
            "epoch 183| loss: 0.34525 | train_mse: 0.33935 | val_mse: 0.33956 |  3:41:18s\n",
            "epoch 184| loss: 0.34536 | train_mse: 0.33939 | val_mse: 0.3396  |  3:42:30s\n",
            "epoch 185| loss: 0.34521 | train_mse: 0.33936 | val_mse: 0.33956 |  3:43:43s\n",
            "epoch 186| loss: 0.34522 | train_mse: 0.33932 | val_mse: 0.33954 |  3:44:55s\n",
            "epoch 187| loss: 0.34506 | train_mse: 0.33932 | val_mse: 0.33955 |  3:46:08s\n",
            "epoch 188| loss: 0.3452  | train_mse: 0.33931 | val_mse: 0.33955 |  3:47:21s\n",
            "epoch 189| loss: 0.34524 | train_mse: 0.33931 | val_mse: 0.33954 |  3:48:34s\n",
            "epoch 190| loss: 0.3453  | train_mse: 0.33932 | val_mse: 0.33954 |  3:49:47s\n",
            "epoch 191| loss: 0.34518 | train_mse: 0.3393  | val_mse: 0.33954 |  3:51:00s\n",
            "epoch 192| loss: 0.34533 | train_mse: 0.3393  | val_mse: 0.33954 |  3:52:13s\n",
            "epoch 193| loss: 0.34517 | train_mse: 0.33935 | val_mse: 0.33958 |  3:53:26s\n",
            "epoch 194| loss: 0.34525 | train_mse: 0.33932 | val_mse: 0.33956 |  3:54:39s\n",
            "epoch 195| loss: 0.34525 | train_mse: 0.33929 | val_mse: 0.33952 |  3:55:51s\n",
            "epoch 196| loss: 0.34522 | train_mse: 0.33932 | val_mse: 0.33954 |  3:57:04s\n",
            "epoch 197| loss: 0.34527 | train_mse: 0.33932 | val_mse: 0.33957 |  3:58:17s\n",
            "epoch 198| loss: 0.34535 | train_mse: 0.33929 | val_mse: 0.33951 |  3:59:29s\n",
            "epoch 199| loss: 0.3452  | train_mse: 0.33941 | val_mse: 0.33964 |  4:00:42s\n"
          ],
          "name": "stdout"
        }
      ]
    },
    {
      "cell_type": "code",
      "metadata": {
        "id": "yfyGkle1OpUp",
        "colab": {
          "base_uri": "https://localhost:8080/",
          "height": 282
        },
        "outputId": "1798f035-f098-4aab-c6f2-fe44f3b54d29"
      },
      "source": [
        "# plot losses\n",
        "plt.plot(net.history['loss'])"
      ],
      "execution_count": null,
      "outputs": [
        {
          "output_type": "execute_result",
          "data": {
            "text/plain": [
              "[<matplotlib.lines.Line2D at 0x7fbaaad32160>]"
            ]
          },
          "metadata": {
            "tags": []
          },
          "execution_count": 75
        },
        {
          "output_type": "display_data",
          "data": {
            "image/png": "[encoded data removed]",
            "text/plain": [
              "<Figure size 432x288 with 1 Axes>"
            ]
          },
          "metadata": {
            "tags": [],
            "needs_background": "light"
          }
        }
      ]
    },
    {
      "cell_type": "code",
      "metadata": {
        "id": "UEvKTbWAOpUr",
        "colab": {
          "base_uri": "https://localhost:8080/",
          "height": 283
        },
        "outputId": "184a15d9-5a02-4b95-b639-d6de63398c19"
      },
      "source": [
        "# plot mse\n",
        "plt.plot(net.history['train_mse'])\n",
        "plt.plot(net.history['val_mse'])"
      ],
      "execution_count": null,
      "outputs": [
        {
          "output_type": "execute_result",
          "data": {
            "text/plain": [
              "[<matplotlib.lines.Line2D at 0x7fba92d5a2b0>]"
            ]
          },
          "metadata": {
            "tags": []
          },
          "execution_count": 76
        },
        {
          "output_type": "display_data",
          "data": {
            "image/png": "[encoded data removed]",
            "text/plain": [
              "<Figure size 432x288 with 1 Axes>"
            ]
          },
          "metadata": {
            "tags": [],
            "needs_background": "light"
          }
        }
      ]
    },
    {
      "cell_type": "code",
      "metadata": {
        "id": "5HynpZbyOpUv",
        "colab": {
          "base_uri": "https://localhost:8080/",
          "height": 282
        },
        "outputId": "de1dc929-086f-4efd-e746-b280468faf6d"
      },
      "source": [
        "# plot learning rates\n",
        "plt.plot(net.history['lr'])"
      ],
      "execution_count": null,
      "outputs": [
        {
          "output_type": "execute_result",
          "data": {
            "text/plain": [
              "[<matplotlib.lines.Line2D at 0x7fba92e4a438>]"
            ]
          },
          "metadata": {
            "tags": []
          },
          "execution_count": 77
        },
        {
          "output_type": "display_data",
          "data": {
            "image/png": "[encoded data removed]",
            "text/plain": [
              "<Figure size 432x288 with 1 Axes>"
            ]
          },
          "metadata": {
            "tags": [],
            "needs_background": "light"
          }
        }
      ]
    },
    {
      "cell_type": "markdown",
      "metadata": {
        "id": "bEiG7ELfOpU2"
      },
      "source": [
        "## Predictions"
      ]
    },
    {
      "cell_type": "code",
      "metadata": {
        "id": "rmHxfun0OpU3",
        "colab": {
          "base_uri": "https://localhost:8080/"
        },
        "outputId": "972f6f80-6132-4293-9229-b4f11080a170"
      },
      "source": [
        "preds = net.predict(X_test)\n",
        "test_mse = mean_squared_error(y_test, preds)\n",
        "\n",
        "preds_valid = net.predict(X_valid)\n",
        "valid_mse = mean_squared_error(y_valid, preds_valid)\n",
        "\n",
        "\n",
        "print(f\"FINAL VALID SCORE FOR {dataset_name} : {net.history['val_mse'][-1]}\")\n",
        "print(f\"FINAL TEST SCORE FOR {dataset_name} : {test_mse}\")"
      ],
      "execution_count": null,
      "outputs": [
        {
          "output_type": "stream",
          "text": [
            "FINAL VALID SCORE FOR data_dict10.csv + data_dict10_test.csv : 0.33963631589306253\n",
            "FINAL TEST SCORE FOR data_dict10.csv + data_dict10_test.csv : 0.33938321054362697\n"
          ],
          "name": "stdout"
        }
      ]
    },
    {
      "cell_type": "code",
      "metadata": {
        "id": "lvddR8CdMIS9",
        "colab": {
          "base_uri": "https://localhost:8080/"
        },
        "outputId": "7a1ea4d0-537c-4224-f540-e40d23af3c2f"
      },
      "source": [
        "error_list = []\n",
        "total = 0\n",
        "true_count = 0\n",
        "true_count_sk = 0\n",
        "error_range = 0.5\n",
        "for yy_true, yy_pred, yy_pred_sk in zip(y_test, preds, sk_preds):\n",
        "  yy_true = yy_true[0]\n",
        "  yy_pred = yy_pred[0]\n",
        "  yy_pred_sk = yy_pred_sk[0]\n",
        "  error_a = yy_pred - yy_true\n",
        "  error_b = yy_pred_sk - yy_true\n",
        "  error_list.append([ yy_true, yy_pred, yy_pred_sk, error_a, error_b])\n",
        "  total += 1\n",
        "  if abs(error_a) < error_range:\n",
        "    true_count += 1\n",
        "  if abs(error_b) < error_range:\n",
        "    true_count_sk += 1\n",
        "print(f'{true_count/total*100:0.2f}%')\n",
        "print(f'{true_count_sk/total*100:0.2f}%')\n",
        "error_list = np.array(error_list)\n",
        "res_df = pd.DataFrame(error_list, columns=['y_true', 'y_pred', 'y_pred_sk', 'error', 'error_sk'])"
      ],
      "execution_count": null,
      "outputs": [
        {
          "output_type": "stream",
          "text": [
            "66.16%\n",
            "85.53%\n"
          ],
          "name": "stdout"
        }
      ]
    },
    {
      "cell_type": "code",
      "metadata": {
        "id": "dFsxQHBRuT1i",
        "colab": {
          "base_uri": "https://localhost:8080/",
          "height": 406
        },
        "outputId": "7dcc2cd3-9b11-46e9-f0dd-3e7e58190d70"
      },
      "source": [
        "res_df"
      ],
      "execution_count": null,
      "outputs": [
        {
          "output_type": "execute_result",
          "data": {
            "text/html": [
              "<div>\n",
              "<style scoped>\n",
              "    .dataframe tbody tr th:only-of-type {\n",
              "        vertical-align: middle;\n",
              "    }\n",
              "\n",
              "    .dataframe tbody tr th {\n",
              "        vertical-align: top;\n",
              "    }\n",
              "\n",
              "    .dataframe thead th {\n",
              "        text-align: right;\n",
              "    }\n",
              "</style>\n",
              "<table border=\"1\" class=\"dataframe\">\n",
              "  <thead>\n",
              "    <tr style=\"text-align: right;\">\n",
              "      <th></th>\n",
              "      <th>y_true</th>\n",
              "      <th>y_pred</th>\n",
              "      <th>y_pred_sk</th>\n",
              "      <th>error</th>\n",
              "      <th>error_sk</th>\n",
              "    </tr>\n",
              "  </thead>\n",
              "  <tbody>\n",
              "    <tr>\n",
              "      <th>0</th>\n",
              "      <td>1.386294</td>\n",
              "      <td>1.416229</td>\n",
              "      <td>1.386294</td>\n",
              "      <td>0.029934</td>\n",
              "      <td>0.000000e+00</td>\n",
              "    </tr>\n",
              "    <tr>\n",
              "      <th>1</th>\n",
              "      <td>2.484907</td>\n",
              "      <td>2.080724</td>\n",
              "      <td>2.484907</td>\n",
              "      <td>-0.404183</td>\n",
              "      <td>0.000000e+00</td>\n",
              "    </tr>\n",
              "    <tr>\n",
              "      <th>2</th>\n",
              "      <td>0.000000</td>\n",
              "      <td>-0.159998</td>\n",
              "      <td>0.000000</td>\n",
              "      <td>-0.159998</td>\n",
              "      <td>0.000000e+00</td>\n",
              "    </tr>\n",
              "    <tr>\n",
              "      <th>3</th>\n",
              "      <td>1.386294</td>\n",
              "      <td>1.548118</td>\n",
              "      <td>1.386294</td>\n",
              "      <td>0.161823</td>\n",
              "      <td>0.000000e+00</td>\n",
              "    </tr>\n",
              "    <tr>\n",
              "      <th>4</th>\n",
              "      <td>3.332205</td>\n",
              "      <td>3.248074</td>\n",
              "      <td>3.332205</td>\n",
              "      <td>-0.084130</td>\n",
              "      <td>0.000000e+00</td>\n",
              "    </tr>\n",
              "    <tr>\n",
              "      <th>...</th>\n",
              "      <td>...</td>\n",
              "      <td>...</td>\n",
              "      <td>...</td>\n",
              "      <td>...</td>\n",
              "      <td>...</td>\n",
              "    </tr>\n",
              "    <tr>\n",
              "      <th>283245</th>\n",
              "      <td>0.000000</td>\n",
              "      <td>0.198108</td>\n",
              "      <td>0.000000</td>\n",
              "      <td>0.198108</td>\n",
              "      <td>0.000000e+00</td>\n",
              "    </tr>\n",
              "    <tr>\n",
              "      <th>283246</th>\n",
              "      <td>2.484907</td>\n",
              "      <td>1.941336</td>\n",
              "      <td>2.484907</td>\n",
              "      <td>-0.543570</td>\n",
              "      <td>4.440892e-16</td>\n",
              "    </tr>\n",
              "    <tr>\n",
              "      <th>283247</th>\n",
              "      <td>1.386294</td>\n",
              "      <td>0.237602</td>\n",
              "      <td>1.386294</td>\n",
              "      <td>-1.148692</td>\n",
              "      <td>0.000000e+00</td>\n",
              "    </tr>\n",
              "    <tr>\n",
              "      <th>283248</th>\n",
              "      <td>2.484907</td>\n",
              "      <td>1.534488</td>\n",
              "      <td>2.484907</td>\n",
              "      <td>-0.950419</td>\n",
              "      <td>0.000000e+00</td>\n",
              "    </tr>\n",
              "    <tr>\n",
              "      <th>283249</th>\n",
              "      <td>0.000000</td>\n",
              "      <td>2.158306</td>\n",
              "      <td>0.000000</td>\n",
              "      <td>2.158306</td>\n",
              "      <td>0.000000e+00</td>\n",
              "    </tr>\n",
              "  </tbody>\n",
              "</table>\n",
              "<p>283250 rows × 5 columns</p>\n",
              "</div>"
            ],
            "text/plain": [
              "          y_true    y_pred  y_pred_sk     error      error_sk\n",
              "0       1.386294  1.416229   1.386294  0.029934  0.000000e+00\n",
              "1       2.484907  2.080724   2.484907 -0.404183  0.000000e+00\n",
              "2       0.000000 -0.159998   0.000000 -0.159998  0.000000e+00\n",
              "3       1.386294  1.548118   1.386294  0.161823  0.000000e+00\n",
              "4       3.332205  3.248074   3.332205 -0.084130  0.000000e+00\n",
              "...          ...       ...        ...       ...           ...\n",
              "283245  0.000000  0.198108   0.000000  0.198108  0.000000e+00\n",
              "283246  2.484907  1.941336   2.484907 -0.543570  4.440892e-16\n",
              "283247  1.386294  0.237602   1.386294 -1.148692  0.000000e+00\n",
              "283248  2.484907  1.534488   2.484907 -0.950419  0.000000e+00\n",
              "283249  0.000000  2.158306   0.000000  2.158306  0.000000e+00\n",
              "\n",
              "[283250 rows x 5 columns]"
            ]
          },
          "metadata": {
            "tags": []
          },
          "execution_count": 80
        }
      ]
    },
    {
      "cell_type": "code",
      "metadata": {
        "id": "nedwRZbZy_pg",
        "colab": {
          "base_uri": "https://localhost:8080/",
          "height": 297
        },
        "outputId": "d0286ec7-5a68-422f-eeed-1f84e4b9bc05"
      },
      "source": [
        "sns.scatterplot(data=res_df, x='y_true', y='y_pred')\n",
        "plt.plot([0, 4], [0, 4], linewidth=2, color='black')"
      ],
      "execution_count": null,
      "outputs": [
        {
          "output_type": "execute_result",
          "data": {
            "text/plain": [
              "[<matplotlib.lines.Line2D at 0x7fbaaad8f9e8>]"
            ]
          },
          "metadata": {
            "tags": []
          },
          "execution_count": 81
        },
        {
          "output_type": "display_data",
          "data": {
            "image/png": "[encoded data removed]",
            "text/plain": [
              "<Figure size 432x288 with 1 Axes>"
            ]
          },
          "metadata": {
            "tags": [],
            "needs_background": "light"
          }
        }
      ]
    },
    {
      "cell_type": "code",
      "metadata": {
        "id": "MyN2w65Wx6mL",
        "colab": {
          "base_uri": "https://localhost:8080/"
        },
        "outputId": "2d3479a5-800f-4337-f544-86b8d24b7705"
      },
      "source": [
        "u_mass = data[target].unique()\n",
        "u_mass.sort()\n",
        "print(u_mass)\n",
        "for i in range(len(u_mass)-1):\n",
        "  print(u_mass[i+1] - u_mass[i])"
      ],
      "execution_count": null,
      "outputs": [
        {
          "output_type": "stream",
          "text": [
            "[0.         1.38629436 2.48490665 3.33220451 4.02535169]\n",
            "1.3862943611198906\n",
            "1.0986122886681098\n",
            "0.8472978603872034\n",
            "0.6931471805599458\n"
          ],
          "name": "stdout"
        }
      ]
    },
    {
      "cell_type": "code",
      "metadata": {
        "id": "Q4CWmwGVwtn0",
        "colab": {
          "base_uri": "https://localhost:8080/",
          "height": 772
        },
        "outputId": "b110c8e8-be25-4a79-eb5b-a3c12c0bc397"
      },
      "source": [
        "bins_width = 0.25\n",
        "bins_min, bins_max = -5, 5\n",
        "bins = np.arange(bins_min+bins_width/2, bins_max+bins_width/2, bins_width)\n",
        "pl = sns.displot(res_df, x=\"y_true\", bins=bins)\n",
        "print(bins)\n",
        "# Add a title to the Figure\n",
        "pl.fig.set_size_inches(10, 10)\n",
        "pl.fig.suptitle(\"Errors\", fontsize=12)"
      ],
      "execution_count": null,
      "outputs": [
        {
          "output_type": "stream",
          "text": [
            "[-4.875 -4.625 -4.375 -4.125 -3.875 -3.625 -3.375 -3.125 -2.875 -2.625\n",
            " -2.375 -2.125 -1.875 -1.625 -1.375 -1.125 -0.875 -0.625 -0.375 -0.125\n",
            "  0.125  0.375  0.625  0.875  1.125  1.375  1.625  1.875  2.125  2.375\n",
            "  2.625  2.875  3.125  3.375  3.625  3.875  4.125  4.375  4.625  4.875]\n"
          ],
          "name": "stdout"
        },
        {
          "output_type": "execute_result",
          "data": {
            "text/plain": [
              "Text(0.5, 0.98, 'Errors')"
            ]
          },
          "metadata": {
            "tags": []
          },
          "execution_count": 83
        },
        {
          "output_type": "display_data",
          "data": {
            "image/png": "[encoded data removed]",
            "text/plain": [
              "<Figure size 720x720 with 1 Axes>"
            ]
          },
          "metadata": {
            "tags": [],
            "needs_background": "light"
          }
        }
      ]
    },
    {
      "cell_type": "code",
      "metadata": {
        "id": "2Q7MuZfZt4S3",
        "colab": {
          "base_uri": "https://localhost:8080/",
          "height": 737
        },
        "outputId": "82b1c225-30d7-4b59-c08c-4712846d41b8"
      },
      "source": [
        "bins_width = 0.5\n",
        "bins_min, bins_max = -4, 4\n",
        "bins = np.arange(bins_min+bins_width/2, bins_max+bins_width/2, bins_width)\n",
        "pl = sns.displot(res_df, x=\"error_sk\", bins=bins)\n",
        "print(bins)\n",
        "# Add a title to the Figure\n",
        "pl.fig.set_size_inches(10, 10)\n",
        "pl.fig.suptitle(\"Errors\", fontsize=12)"
      ],
      "execution_count": null,
      "outputs": [
        {
          "output_type": "stream",
          "text": [
            "[-3.75 -3.25 -2.75 -2.25 -1.75 -1.25 -0.75 -0.25  0.25  0.75  1.25  1.75\n",
            "  2.25  2.75  3.25  3.75]\n"
          ],
          "name": "stdout"
        },
        {
          "output_type": "execute_result",
          "data": {
            "text/plain": [
              "Text(0.5, 0.98, 'Errors')"
            ]
          },
          "metadata": {
            "tags": []
          },
          "execution_count": 84
        },
        {
          "output_type": "display_data",
          "data": {
            "image/png": "[encoded data removed]",
            "text/plain": [
              "<Figure size 720x720 with 1 Axes>"
            ]
          },
          "metadata": {
            "tags": [],
            "needs_background": "light"
          }
        }
      ]
    },
    {
      "cell_type": "code",
      "metadata": {
        "id": "uOac1QCtOpU8"
      },
      "source": [
        "# check that last epoch's weight are used\n",
        "assert np.isclose(valid_mse, net.history['val_mse'][-1], atol=1e-6)"
      ],
      "execution_count": null,
      "outputs": []
    },
    {
      "cell_type": "markdown",
      "metadata": {
        "id": "dHRqW_a_OpVB"
      },
      "source": [
        "# Save and load Model"
      ]
    },
    {
      "cell_type": "code",
      "metadata": {
        "id": "7IMg1YCaOpVB",
        "colab": {
          "base_uri": "https://localhost:8080/"
        },
        "outputId": "c226eacc-46a4-46d4-df26-5bcb3a557ad0"
      },
      "source": [
        "# save tabnet model\n",
        "saving_path_name = r\"/content/drive/My Drive/Colab Notebooks/KCDC/tab_net_100e_100b_all_samples\"\n",
        "saved_filepath = net.save_model(saving_path_name)"
      ],
      "execution_count": null,
      "outputs": [
        {
          "output_type": "stream",
          "text": [
            "Successfully saved model at /content/drive/My Drive/Colab Notebooks/KCDC/tab_net_100e_100b_all_samples.zip\n"
          ],
          "name": "stdout"
        }
      ]
    },
    {
      "cell_type": "code",
      "metadata": {
        "id": "OMIjgYuvOpVE",
        "colab": {
          "base_uri": "https://localhost:8080/"
        },
        "outputId": "70c50fbe-b486-4f55-b957-908a311946bf"
      },
      "source": [
        "# define new model with basic parameters and load state dict weights\n",
        "loaded_net = TabNetRegressor()\n",
        "loaded_net.load_model(saved_filepath)"
      ],
      "execution_count": null,
      "outputs": [
        {
          "output_type": "stream",
          "text": [
            "Device used : cuda\n",
            "Device used : cuda\n"
          ],
          "name": "stdout"
        }
      ]
    },
    {
      "cell_type": "code",
      "metadata": {
        "id": "w0NW9pwUOpVI",
        "colab": {
          "base_uri": "https://localhost:8080/"
        },
        "outputId": "d077b6b0-c4e9-49ac-f408-877bf877ce34"
      },
      "source": [
        "loaded_preds = loaded_net.predict(X_test)\n",
        "loaded_test_mse = mean_squared_error(y_test[:, 0], loaded_preds[:,1])\n",
        "\n",
        "print(f\"FINAL TEST SCORE FOR {dataset_name} : {loaded_test_mse}\")"
      ],
      "execution_count": null,
      "outputs": [
        {
          "output_type": "stream",
          "text": [
            "FINAL TEST SCORE FOR data_dict10.csv + data_dict10_test.csv : 0.16975177917490752\n"
          ],
          "name": "stdout"
        }
      ]
    },
    {
      "cell_type": "code",
      "metadata": {
        "id": "xD_0nU38OpVM",
        "colab": {
          "base_uri": "https://localhost:8080/",
          "height": 167
        },
        "outputId": "275b871c-ed54-4a87-b58e-e7c9e4d5a0ec"
      },
      "source": [
        "assert(test_mse == loaded_test_mse)"
      ],
      "execution_count": null,
      "outputs": [
        {
          "output_type": "error",
          "ename": "AssertionError",
          "evalue": "ignored",
          "traceback": [
            "\u001b[0;31m---------------------------------------------------------------------------\u001b[0m",
            "\u001b[0;31mAssertionError\u001b[0m                            Traceback (most recent call last)",
            "\u001b[0;32m<ipython-input-226-e322709661e1>\u001b[0m in \u001b[0;36m<module>\u001b[0;34m()\u001b[0m\n\u001b[0;32m----> 1\u001b[0;31m \u001b[0;32massert\u001b[0m\u001b[0;34m(\u001b[0m\u001b[0mtest_mse\u001b[0m \u001b[0;34m==\u001b[0m \u001b[0mloaded_test_mse\u001b[0m\u001b[0;34m)\u001b[0m\u001b[0;34m\u001b[0m\u001b[0;34m\u001b[0m\u001b[0m\n\u001b[0m",
            "\u001b[0;31mAssertionError\u001b[0m: "
          ]
        }
      ]
    },
    {
      "cell_type": "markdown",
      "metadata": {
        "id": "c3mYSq9gOpVQ"
      },
      "source": [
        "# Global explainability : feat importance summing to 1"
      ]
    },
    {
      "cell_type": "code",
      "metadata": {
        "id": "Y9TCBqldOpVR",
        "colab": {
          "base_uri": "https://localhost:8080/"
        },
        "outputId": "5e9daef5-bece-4dd9-ae2d-25c82d6b07fc"
      },
      "source": [
        "reg.feature_importances_"
      ],
      "execution_count": null,
      "outputs": [
        {
          "output_type": "execute_result",
          "data": {
            "text/plain": [
              "array([0., 0., 0., ..., 0., 0., 0.])"
            ]
          },
          "metadata": {
            "tags": []
          },
          "execution_count": 65
        }
      ]
    },
    {
      "cell_type": "markdown",
      "metadata": {
        "id": "thOnQzWpOpVW"
      },
      "source": [
        "# Local explainability and masks"
      ]
    },
    {
      "cell_type": "code",
      "metadata": {
        "id": "G2mUg-G3OpVa"
      },
      "source": [
        "explain_matrix, masks = reg.explain(X_test)"
      ],
      "execution_count": null,
      "outputs": []
    },
    {
      "cell_type": "code",
      "metadata": {
        "id": "cX5a_kt_OpVd",
        "colab": {
          "base_uri": "https://localhost:8080/",
          "height": 64
        },
        "outputId": "cd6a1cbb-0fb0-4875-ece7-98b9897426b6"
      },
      "source": [
        "fig, axs = plt.subplots(1, 3, figsize=(20,20))\n",
        "\n",
        "for i in range(3):\n",
        "    axs[i].imshow(masks[i][:50])\n",
        "    axs[i].set_title(f\"mask {i}\")\n"
      ],
      "execution_count": null,
      "outputs": [
        {
          "output_type": "display_data",
          "data": {
            "image/png": "[encoded data removed]",
            "text/plain": [
              "<Figure size 1440x1440 with 3 Axes>"
            ]
          },
          "metadata": {
            "tags": []
          }
        }
      ]
    },
    {
      "cell_type": "markdown",
      "metadata": {
        "id": "bhhi0_bWOpVh"
      },
      "source": [
        "# XGB"
      ]
    },
    {
      "cell_type": "code",
      "metadata": {
        "id": "3UbqhQnNOpVi",
        "scrolled": true
      },
      "source": [
        "from xgboost import XGBClassifier\n",
        "\n",
        "clf_xgb = XGBClassifier(max_depth=8,\n",
        "    learning_rate=0.1,\n",
        "    n_estimators=1000,\n",
        "    verbosity=0,\n",
        "    silent=None,\n",
        "    objective='binary:logistic',\n",
        "    booster='gbtree',\n",
        "    n_jobs=-1,\n",
        "    nthread=None,\n",
        "    gamma=0,\n",
        "    min_child_weight=1,\n",
        "    max_delta_step=0,\n",
        "    subsample=0.7,\n",
        "    colsample_bytree=1,\n",
        "    colsample_bylevel=1,\n",
        "    colsample_bynode=1,\n",
        "    reg_alpha=0,\n",
        "    reg_lambda=1,\n",
        "    scale_pos_weight=1,\n",
        "    base_score=0.5,\n",
        "    random_state=0,\n",
        "    seed=None,)\n",
        "\n",
        "clf_xgb.fit(X_train, y_train,\n",
        "        eval_set=[(X_valid, y_valid)],\n",
        "        early_stopping_rounds=40,\n",
        "        verbose=10)"
      ],
      "execution_count": null,
      "outputs": []
    },
    {
      "cell_type": "code",
      "metadata": {
        "id": "2qDbCm73OpVk"
      },
      "source": [
        "preds = np.array(clf_xgb.predict_proba(X_valid))\n",
        "valid_auc = roc_auc_score(y_score=preds[:,1], y_true=y_valid)\n",
        "print(valid_auc)\n",
        "\n",
        "preds = np.array(clf_xgb.predict_proba(X_test))\n",
        "test_auc = roc_auc_score(y_score=preds[:,1], y_true=y_test)\n",
        "print(test_auc)"
      ],
      "execution_count": null,
      "outputs": []
    },
    {
      "cell_type": "code",
      "metadata": {
        "id": "CVr0ypQnOpVn"
      },
      "source": [
        ""
      ],
      "execution_count": null,
      "outputs": []
    }
  ]
}